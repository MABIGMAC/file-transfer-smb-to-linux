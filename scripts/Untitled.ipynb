{
 "cells": [
  {
   "cell_type": "code",
   "execution_count": 1,
   "id": "f4e6af92-afce-4edc-8fb0-0d19851b0a34",
   "metadata": {},
   "outputs": [],
   "source": [
    "from smb.SMBConnection import SMBConnection\n",
    "\n"
   ]
  },
  {
   "cell_type": "code",
   "execution_count": 5,
   "id": "8f9f96b9-addd-411e-98c9-e9b0e8970545",
   "metadata": {},
   "outputs": [],
   "source": [
    "conn = SMBConnection(\n",
    "    username=\"testuser\",\n",
    "    password=\"testpass\",\n",
    "    my_name=\"jupy-client\",     # arbitrary client machine name\n",
    "    remote_name=\"test_smb\",    # must match SMB server container name\n",
    "    use_ntlm_v2=True\n",
    ")"
   ]
  },
  {
   "cell_type": "code",
   "execution_count": 6,
   "id": "d0e3f739-1226-4530-98e7-7b8f30454ca4",
   "metadata": {},
   "outputs": [
    {
     "ename": "ProtocolError",
     "evalue": "Server does not support any of the pysmb dialects. Please email pysmb to add in support for your OS\n==================== SMB Message ====================\nCommand: 0x72 (SMB_COM_NEGOTIATE) \nStatus: NTSTATUS=0x00000000 \nFlags: 0x88 \nFlags2: 0xC003 \nPID: 46 \nUID: 0 \nMID: 1 \nTID: 0 \nSecurity: 0x0000000000000000 \nParameters: 2 bytes \nb'ffff' \nData: 0 bytes \nb'' \n==================== SMB Data Packet (hex) ====================\nb'ff534d4272000000008803c000000000000000000000000000002e000000010001ffff0000'\n",
     "output_type": "error",
     "traceback": [
      "\u001b[31m---------------------------------------------------------------------------\u001b[39m",
      "\u001b[31mProtocolError\u001b[39m                             Traceback (most recent call last)",
      "\u001b[36mCell\u001b[39m\u001b[36m \u001b[39m\u001b[32mIn[6]\u001b[39m\u001b[32m, line 1\u001b[39m\n\u001b[32m----> \u001b[39m\u001b[32m1\u001b[39m \u001b[38;5;28;01mif\u001b[39;00m \u001b[43mconn\u001b[49m\u001b[43m.\u001b[49m\u001b[43mconnect\u001b[49m\u001b[43m(\u001b[49m\u001b[33;43m\"\u001b[39;49m\u001b[33;43mtest_smb\u001b[39;49m\u001b[33;43m\"\u001b[39;49m\u001b[43m,\u001b[49m\u001b[43m \u001b[49m\u001b[32;43m445\u001b[39;49m\u001b[43m)\u001b[49m:\n\u001b[32m      2\u001b[39m     \u001b[38;5;28mprint\u001b[39m(\u001b[33m\"\u001b[39m\u001b[33m✅ Connected to SMB container\u001b[39m\u001b[33m\"\u001b[39m)\n\u001b[32m      3\u001b[39m     files = conn.listPath(\u001b[33m\"\u001b[39m\u001b[33mshare\u001b[39m\u001b[33m\"\u001b[39m, \u001b[33m\"\u001b[39m\u001b[33m/\u001b[39m\u001b[33m\"\u001b[39m)\n",
      "\u001b[36mFile \u001b[39m\u001b[32m/venv/lib/python3.13/site-packages/smb/SMBConnection.py:129\u001b[39m, in \u001b[36mSMBConnection.connect\u001b[39m\u001b[34m(self, ip, port, sock_family, timeout)\u001b[39m\n\u001b[32m    127\u001b[39m         \u001b[38;5;28mself\u001b[39m.onNMBSessionOK()\n\u001b[32m    128\u001b[39m     \u001b[38;5;28;01mwhile\u001b[39;00m \u001b[38;5;28mself\u001b[39m.auth_result \u001b[38;5;129;01mis\u001b[39;00m \u001b[38;5;28;01mNone\u001b[39;00m:\n\u001b[32m--> \u001b[39m\u001b[32m129\u001b[39m         \u001b[38;5;28;43mself\u001b[39;49m\u001b[43m.\u001b[49m\u001b[43m_pollForNetBIOSPacket\u001b[49m\u001b[43m(\u001b[49m\u001b[43mtimeout\u001b[49m\u001b[43m)\u001b[49m\n\u001b[32m    130\u001b[39m \u001b[38;5;28;01mfinally\u001b[39;00m:\n\u001b[32m    131\u001b[39m     \u001b[38;5;28mself\u001b[39m.is_busy = \u001b[38;5;28;01mFalse\u001b[39;00m\n",
      "\u001b[36mFile \u001b[39m\u001b[32m/venv/lib/python3.13/site-packages/smb/SMBConnection.py:649\u001b[39m, in \u001b[36mSMBConnection._pollForNetBIOSPacket\u001b[39m\u001b[34m(self, timeout)\u001b[39m\n\u001b[32m    646\u001b[39m         \u001b[38;5;28;01melse\u001b[39;00m:\n\u001b[32m    647\u001b[39m             \u001b[38;5;28;01mraise\u001b[39;00m ex\n\u001b[32m--> \u001b[39m\u001b[32m649\u001b[39m \u001b[38;5;28;43mself\u001b[39;49m\u001b[43m.\u001b[49m\u001b[43mfeedData\u001b[49m\u001b[43m(\u001b[49m\u001b[43mdata\u001b[49m\u001b[43m)\u001b[49m\n",
      "\u001b[36mFile \u001b[39m\u001b[32m/venv/lib/python3.13/site-packages/nmb/base.py:54\u001b[39m, in \u001b[36mNMBSession.feedData\u001b[39m\u001b[34m(self, data)\u001b[39m\n\u001b[32m     52\u001b[39m \u001b[38;5;28;01melif\u001b[39;00m length > \u001b[32m0\u001b[39m:\n\u001b[32m     53\u001b[39m     offset += length\n\u001b[32m---> \u001b[39m\u001b[32m54\u001b[39m     \u001b[38;5;28;43mself\u001b[39;49m\u001b[43m.\u001b[49m\u001b[43m_processNMBSessionPacket\u001b[49m\u001b[43m(\u001b[49m\u001b[38;5;28;43mself\u001b[39;49m\u001b[43m.\u001b[49m\u001b[43mdata_nmb\u001b[49m\u001b[43m)\u001b[49m\n\u001b[32m     55\u001b[39m \u001b[38;5;28;01melse\u001b[39;00m:\n\u001b[32m     56\u001b[39m     \u001b[38;5;28;01mraise\u001b[39;00m NMBError\n",
      "\u001b[36mFile \u001b[39m\u001b[32m/venv/lib/python3.13/site-packages/nmb/base.py:75\u001b[39m, in \u001b[36mNMBSession._processNMBSessionPacket\u001b[39m\u001b[34m(self, packet)\u001b[39m\n\u001b[32m     73\u001b[39m \u001b[38;5;28;01mdef\u001b[39;00m\u001b[38;5;250m \u001b[39m\u001b[34m_processNMBSessionPacket\u001b[39m(\u001b[38;5;28mself\u001b[39m, packet):\n\u001b[32m     74\u001b[39m     \u001b[38;5;28;01mif\u001b[39;00m packet.type == SESSION_MESSAGE:\n\u001b[32m---> \u001b[39m\u001b[32m75\u001b[39m         \u001b[38;5;28;43mself\u001b[39;49m\u001b[43m.\u001b[49m\u001b[43monNMBSessionMessage\u001b[49m\u001b[43m(\u001b[49m\u001b[43mpacket\u001b[49m\u001b[43m.\u001b[49m\u001b[43mflags\u001b[49m\u001b[43m,\u001b[49m\u001b[43m \u001b[49m\u001b[43mpacket\u001b[49m\u001b[43m.\u001b[49m\u001b[43mdata\u001b[49m\u001b[43m)\u001b[49m\n\u001b[32m     76\u001b[39m     \u001b[38;5;28;01melif\u001b[39;00m packet.type == POSITIVE_SESSION_RESPONSE:\n\u001b[32m     77\u001b[39m         \u001b[38;5;28mself\u001b[39m.onNMBSessionOK()\n",
      "\u001b[36mFile \u001b[39m\u001b[32m/venv/lib/python3.13/site-packages/smb/base.py:128\u001b[39m, in \u001b[36mSMB.onNMBSessionMessage\u001b[39m\u001b[34m(self, flags, data)\u001b[39m\n\u001b[32m    126\u001b[39m \u001b[38;5;28;01mwhile\u001b[39;00m \u001b[38;5;28;01mTrue\u001b[39;00m:\n\u001b[32m    127\u001b[39m     \u001b[38;5;28;01mtry\u001b[39;00m:\n\u001b[32m--> \u001b[39m\u001b[32m128\u001b[39m         i = \u001b[38;5;28;43mself\u001b[39;49m\u001b[43m.\u001b[49m\u001b[43msmb_message\u001b[49m\u001b[43m.\u001b[49m\u001b[43mdecode\u001b[49m\u001b[43m(\u001b[49m\u001b[43mdata\u001b[49m\u001b[43m)\u001b[49m\n\u001b[32m    129\u001b[39m     \u001b[38;5;28;01mexcept\u001b[39;00m SMB2ProtocolHeaderError:\n\u001b[32m    130\u001b[39m         \u001b[38;5;28mself\u001b[39m.log.info(\u001b[33m'\u001b[39m\u001b[33mNow switching over to SMB2 protocol communication\u001b[39m\u001b[33m'\u001b[39m)\n",
      "\u001b[36mFile \u001b[39m\u001b[32m/venv/lib/python3.13/site-packages/smb/smb_structs.py:230\u001b[39m, in \u001b[36mSMBMessage.decode\u001b[39m\u001b[34m(self, buf)\u001b[39m\n\u001b[32m    227\u001b[39m     \u001b[38;5;28mself\u001b[39m.data = buf[datalen_offset+\u001b[32m2\u001b[39m:datalen_offset+\u001b[32m2\u001b[39m+body_len]\n\u001b[32m    229\u001b[39m \u001b[38;5;28mself\u001b[39m.raw_data = buf\n\u001b[32m--> \u001b[39m\u001b[32m230\u001b[39m \u001b[38;5;28;43mself\u001b[39;49m\u001b[43m.\u001b[49m\u001b[43m_decodePayload\u001b[49m\u001b[43m(\u001b[49m\u001b[43m)\u001b[49m\n\u001b[32m    232\u001b[39m \u001b[38;5;28;01mreturn\u001b[39;00m \u001b[38;5;28mself\u001b[39m.HEADER_STRUCT_SIZE + params_count * \u001b[32m2\u001b[39m + \u001b[32m2\u001b[39m + body_len\n",
      "\u001b[36mFile \u001b[39m\u001b[32m/venv/lib/python3.13/site-packages/smb/smb_structs.py:257\u001b[39m, in \u001b[36mSMBMessage._decodePayload\u001b[39m\u001b[34m(self)\u001b[39m\n\u001b[32m    254\u001b[39m     \u001b[38;5;28mself\u001b[39m.payload = ComNegotiateResponse()\n\u001b[32m    256\u001b[39m \u001b[38;5;28;01mif\u001b[39;00m \u001b[38;5;28mself\u001b[39m.payload:\n\u001b[32m--> \u001b[39m\u001b[32m257\u001b[39m     \u001b[38;5;28;43mself\u001b[39;49m\u001b[43m.\u001b[49m\u001b[43mpayload\u001b[49m\u001b[43m.\u001b[49m\u001b[43mdecode\u001b[49m\u001b[43m(\u001b[49m\u001b[38;5;28;43mself\u001b[39;49m\u001b[43m)\u001b[49m\n",
      "\u001b[36mFile \u001b[39m\u001b[32m/venv/lib/python3.13/site-packages/smb/smb_structs.py:363\u001b[39m, in \u001b[36mComNegotiateResponse.decode\u001b[39m\u001b[34m(self, message)\u001b[39m\n\u001b[32m    359\u001b[39m         _, \u001b[38;5;28mself\u001b[39m.security_mode, \u001b[38;5;28mself\u001b[39m.max_mpx_count, \u001b[38;5;28mself\u001b[39m.max_number_vcs, \u001b[38;5;28mself\u001b[39m.max_buffer_size, \\\n\u001b[32m    360\u001b[39m         \u001b[38;5;28mself\u001b[39m.max_raw_size, \u001b[38;5;28mself\u001b[39m.session_key, \u001b[38;5;28mself\u001b[39m.capabilities, \u001b[38;5;28mself\u001b[39m.system_time, \u001b[38;5;28mself\u001b[39m.server_time_zone, \\\n\u001b[32m    361\u001b[39m         \u001b[38;5;28mself\u001b[39m.challenge_length = struct.unpack(\u001b[38;5;28mself\u001b[39m.PAYLOAD_STRUCT_FORMAT, message.parameters_data[:\u001b[38;5;28mself\u001b[39m.PAYLOAD_STRUCT_SIZE])\n\u001b[32m    362\u001b[39m \u001b[38;5;28;01melif\u001b[39;00m \u001b[38;5;28mself\u001b[39m.dialect_index == \u001b[32m0xFFFF\u001b[39m:\n\u001b[32m--> \u001b[39m\u001b[32m363\u001b[39m     \u001b[38;5;28;01mraise\u001b[39;00m ProtocolError(\u001b[33m'\u001b[39m\u001b[33mServer does not support any of the pysmb dialects. Please email pysmb to add in support for your OS\u001b[39m\u001b[33m'\u001b[39m,\n\u001b[32m    364\u001b[39m                         message.raw_data, message)\n\u001b[32m    365\u001b[39m \u001b[38;5;28;01melse\u001b[39;00m:\n\u001b[32m    366\u001b[39m     \u001b[38;5;28;01mraise\u001b[39;00m ProtocolError(\u001b[33m'\u001b[39m\u001b[33mUnknown dialect index (0x\u001b[39m\u001b[38;5;132;01m%04X\u001b[39;00m\u001b[33m)\u001b[39m\u001b[33m'\u001b[39m % \u001b[38;5;28mself\u001b[39m.dialect_index, message.raw_data, message)\n",
      "\u001b[31mProtocolError\u001b[39m: Server does not support any of the pysmb dialects. Please email pysmb to add in support for your OS\n==================== SMB Message ====================\nCommand: 0x72 (SMB_COM_NEGOTIATE) \nStatus: NTSTATUS=0x00000000 \nFlags: 0x88 \nFlags2: 0xC003 \nPID: 46 \nUID: 0 \nMID: 1 \nTID: 0 \nSecurity: 0x0000000000000000 \nParameters: 2 bytes \nb'ffff' \nData: 0 bytes \nb'' \n==================== SMB Data Packet (hex) ====================\nb'ff534d4272000000008803c000000000000000000000000000002e000000010001ffff0000'\n"
     ]
    }
   ],
   "source": [
    "if conn.connect(\"test_smb\", 445):\n",
    "    print(\"✅ Connected to SMB container\")\n",
    "    files = conn.listPath(\"share\", \"/\")\n",
    "    for f in files:\n",
    "        print(\"📄\", f.filename)\n",
    "    conn.close()\n",
    "else:\n",
    "    print(\"❌ Failed to connect to SMB\")"
   ]
  },
  {
   "cell_type": "code",
   "execution_count": 1,
   "id": "2cf7672b-e2ad-4314-b18a-5a4288a3418b",
   "metadata": {},
   "outputs": [
    {
     "ename": "ProtocolError",
     "evalue": "Server does not support any of the pysmb dialects. Please email pysmb to add in support for your OS\n==================== SMB Message ====================\nCommand: 0x72 (SMB_COM_NEGOTIATE) \nStatus: NTSTATUS=0x00000000 \nFlags: 0x88 \nFlags2: 0xC003 \nPID: 84 \nUID: 0 \nMID: 1 \nTID: 0 \nSecurity: 0x0000000000000000 \nParameters: 2 bytes \nb'ffff' \nData: 0 bytes \nb'' \n==================== SMB Data Packet (hex) ====================\nb'ff534d4272000000008803c0000000000000000000000000000054000000010001ffff0000'\n",
     "output_type": "error",
     "traceback": [
      "\u001b[31m---------------------------------------------------------------------------\u001b[39m",
      "\u001b[31mProtocolError\u001b[39m                             Traceback (most recent call last)",
      "\u001b[36mCell\u001b[39m\u001b[36m \u001b[39m\u001b[32mIn[1]\u001b[39m\u001b[32m, line 12\u001b[39m\n\u001b[32m      1\u001b[39m \u001b[38;5;28;01mfrom\u001b[39;00m\u001b[38;5;250m \u001b[39m\u001b[34;01msmb\u001b[39;00m\u001b[34;01m.\u001b[39;00m\u001b[34;01mSMBConnection\u001b[39;00m\u001b[38;5;250m \u001b[39m\u001b[38;5;28;01mimport\u001b[39;00m SMBConnection\n\u001b[32m      3\u001b[39m conn = SMBConnection(\n\u001b[32m      4\u001b[39m     username=\u001b[33m\"\u001b[39m\u001b[33mtestuser\u001b[39m\u001b[33m\"\u001b[39m,\n\u001b[32m      5\u001b[39m     password=\u001b[33m\"\u001b[39m\u001b[33mtestpass\u001b[39m\u001b[33m\"\u001b[39m,\n\u001b[32m   (...)\u001b[39m\u001b[32m      9\u001b[39m     is_direct_tcp=\u001b[38;5;28;01mTrue\u001b[39;00m         \u001b[38;5;66;03m# Required for port 445\u001b[39;00m\n\u001b[32m     10\u001b[39m )\n\u001b[32m---> \u001b[39m\u001b[32m12\u001b[39m \u001b[38;5;28;01mif\u001b[39;00m \u001b[43mconn\u001b[49m\u001b[43m.\u001b[49m\u001b[43mconnect\u001b[49m\u001b[43m(\u001b[49m\u001b[33;43m\"\u001b[39;49m\u001b[33;43mtest_smb\u001b[39;49m\u001b[33;43m\"\u001b[39;49m\u001b[43m,\u001b[49m\u001b[43m \u001b[49m\u001b[32;43m445\u001b[39;49m\u001b[43m)\u001b[49m:\n\u001b[32m     13\u001b[39m     \u001b[38;5;28mprint\u001b[39m(\u001b[33m\"\u001b[39m\u001b[33m✅ Connected to SMB container\u001b[39m\u001b[33m\"\u001b[39m)\n\u001b[32m     14\u001b[39m     files = conn.listPath(\u001b[33m\"\u001b[39m\u001b[33mshare\u001b[39m\u001b[33m\"\u001b[39m, \u001b[33m\"\u001b[39m\u001b[33m/\u001b[39m\u001b[33m\"\u001b[39m)\n",
      "\u001b[36mFile \u001b[39m\u001b[32m/venv/lib/python3.13/site-packages/smb/SMBConnection.py:129\u001b[39m, in \u001b[36mSMBConnection.connect\u001b[39m\u001b[34m(self, ip, port, sock_family, timeout)\u001b[39m\n\u001b[32m    127\u001b[39m         \u001b[38;5;28mself\u001b[39m.onNMBSessionOK()\n\u001b[32m    128\u001b[39m     \u001b[38;5;28;01mwhile\u001b[39;00m \u001b[38;5;28mself\u001b[39m.auth_result \u001b[38;5;129;01mis\u001b[39;00m \u001b[38;5;28;01mNone\u001b[39;00m:\n\u001b[32m--> \u001b[39m\u001b[32m129\u001b[39m         \u001b[38;5;28;43mself\u001b[39;49m\u001b[43m.\u001b[49m\u001b[43m_pollForNetBIOSPacket\u001b[49m\u001b[43m(\u001b[49m\u001b[43mtimeout\u001b[49m\u001b[43m)\u001b[49m\n\u001b[32m    130\u001b[39m \u001b[38;5;28;01mfinally\u001b[39;00m:\n\u001b[32m    131\u001b[39m     \u001b[38;5;28mself\u001b[39m.is_busy = \u001b[38;5;28;01mFalse\u001b[39;00m\n",
      "\u001b[36mFile \u001b[39m\u001b[32m/venv/lib/python3.13/site-packages/smb/SMBConnection.py:649\u001b[39m, in \u001b[36mSMBConnection._pollForNetBIOSPacket\u001b[39m\u001b[34m(self, timeout)\u001b[39m\n\u001b[32m    646\u001b[39m         \u001b[38;5;28;01melse\u001b[39;00m:\n\u001b[32m    647\u001b[39m             \u001b[38;5;28;01mraise\u001b[39;00m ex\n\u001b[32m--> \u001b[39m\u001b[32m649\u001b[39m \u001b[38;5;28;43mself\u001b[39;49m\u001b[43m.\u001b[49m\u001b[43mfeedData\u001b[49m\u001b[43m(\u001b[49m\u001b[43mdata\u001b[49m\u001b[43m)\u001b[49m\n",
      "\u001b[36mFile \u001b[39m\u001b[32m/venv/lib/python3.13/site-packages/nmb/base.py:54\u001b[39m, in \u001b[36mNMBSession.feedData\u001b[39m\u001b[34m(self, data)\u001b[39m\n\u001b[32m     52\u001b[39m \u001b[38;5;28;01melif\u001b[39;00m length > \u001b[32m0\u001b[39m:\n\u001b[32m     53\u001b[39m     offset += length\n\u001b[32m---> \u001b[39m\u001b[32m54\u001b[39m     \u001b[38;5;28;43mself\u001b[39;49m\u001b[43m.\u001b[49m\u001b[43m_processNMBSessionPacket\u001b[49m\u001b[43m(\u001b[49m\u001b[38;5;28;43mself\u001b[39;49m\u001b[43m.\u001b[49m\u001b[43mdata_nmb\u001b[49m\u001b[43m)\u001b[49m\n\u001b[32m     55\u001b[39m \u001b[38;5;28;01melse\u001b[39;00m:\n\u001b[32m     56\u001b[39m     \u001b[38;5;28;01mraise\u001b[39;00m NMBError\n",
      "\u001b[36mFile \u001b[39m\u001b[32m/venv/lib/python3.13/site-packages/nmb/base.py:75\u001b[39m, in \u001b[36mNMBSession._processNMBSessionPacket\u001b[39m\u001b[34m(self, packet)\u001b[39m\n\u001b[32m     73\u001b[39m \u001b[38;5;28;01mdef\u001b[39;00m\u001b[38;5;250m \u001b[39m\u001b[34m_processNMBSessionPacket\u001b[39m(\u001b[38;5;28mself\u001b[39m, packet):\n\u001b[32m     74\u001b[39m     \u001b[38;5;28;01mif\u001b[39;00m packet.type == SESSION_MESSAGE:\n\u001b[32m---> \u001b[39m\u001b[32m75\u001b[39m         \u001b[38;5;28;43mself\u001b[39;49m\u001b[43m.\u001b[49m\u001b[43monNMBSessionMessage\u001b[49m\u001b[43m(\u001b[49m\u001b[43mpacket\u001b[49m\u001b[43m.\u001b[49m\u001b[43mflags\u001b[49m\u001b[43m,\u001b[49m\u001b[43m \u001b[49m\u001b[43mpacket\u001b[49m\u001b[43m.\u001b[49m\u001b[43mdata\u001b[49m\u001b[43m)\u001b[49m\n\u001b[32m     76\u001b[39m     \u001b[38;5;28;01melif\u001b[39;00m packet.type == POSITIVE_SESSION_RESPONSE:\n\u001b[32m     77\u001b[39m         \u001b[38;5;28mself\u001b[39m.onNMBSessionOK()\n",
      "\u001b[36mFile \u001b[39m\u001b[32m/venv/lib/python3.13/site-packages/smb/base.py:128\u001b[39m, in \u001b[36mSMB.onNMBSessionMessage\u001b[39m\u001b[34m(self, flags, data)\u001b[39m\n\u001b[32m    126\u001b[39m \u001b[38;5;28;01mwhile\u001b[39;00m \u001b[38;5;28;01mTrue\u001b[39;00m:\n\u001b[32m    127\u001b[39m     \u001b[38;5;28;01mtry\u001b[39;00m:\n\u001b[32m--> \u001b[39m\u001b[32m128\u001b[39m         i = \u001b[38;5;28;43mself\u001b[39;49m\u001b[43m.\u001b[49m\u001b[43msmb_message\u001b[49m\u001b[43m.\u001b[49m\u001b[43mdecode\u001b[49m\u001b[43m(\u001b[49m\u001b[43mdata\u001b[49m\u001b[43m)\u001b[49m\n\u001b[32m    129\u001b[39m     \u001b[38;5;28;01mexcept\u001b[39;00m SMB2ProtocolHeaderError:\n\u001b[32m    130\u001b[39m         \u001b[38;5;28mself\u001b[39m.log.info(\u001b[33m'\u001b[39m\u001b[33mNow switching over to SMB2 protocol communication\u001b[39m\u001b[33m'\u001b[39m)\n",
      "\u001b[36mFile \u001b[39m\u001b[32m/venv/lib/python3.13/site-packages/smb/smb_structs.py:230\u001b[39m, in \u001b[36mSMBMessage.decode\u001b[39m\u001b[34m(self, buf)\u001b[39m\n\u001b[32m    227\u001b[39m     \u001b[38;5;28mself\u001b[39m.data = buf[datalen_offset+\u001b[32m2\u001b[39m:datalen_offset+\u001b[32m2\u001b[39m+body_len]\n\u001b[32m    229\u001b[39m \u001b[38;5;28mself\u001b[39m.raw_data = buf\n\u001b[32m--> \u001b[39m\u001b[32m230\u001b[39m \u001b[38;5;28;43mself\u001b[39;49m\u001b[43m.\u001b[49m\u001b[43m_decodePayload\u001b[49m\u001b[43m(\u001b[49m\u001b[43m)\u001b[49m\n\u001b[32m    232\u001b[39m \u001b[38;5;28;01mreturn\u001b[39;00m \u001b[38;5;28mself\u001b[39m.HEADER_STRUCT_SIZE + params_count * \u001b[32m2\u001b[39m + \u001b[32m2\u001b[39m + body_len\n",
      "\u001b[36mFile \u001b[39m\u001b[32m/venv/lib/python3.13/site-packages/smb/smb_structs.py:257\u001b[39m, in \u001b[36mSMBMessage._decodePayload\u001b[39m\u001b[34m(self)\u001b[39m\n\u001b[32m    254\u001b[39m     \u001b[38;5;28mself\u001b[39m.payload = ComNegotiateResponse()\n\u001b[32m    256\u001b[39m \u001b[38;5;28;01mif\u001b[39;00m \u001b[38;5;28mself\u001b[39m.payload:\n\u001b[32m--> \u001b[39m\u001b[32m257\u001b[39m     \u001b[38;5;28;43mself\u001b[39;49m\u001b[43m.\u001b[49m\u001b[43mpayload\u001b[49m\u001b[43m.\u001b[49m\u001b[43mdecode\u001b[49m\u001b[43m(\u001b[49m\u001b[38;5;28;43mself\u001b[39;49m\u001b[43m)\u001b[49m\n",
      "\u001b[36mFile \u001b[39m\u001b[32m/venv/lib/python3.13/site-packages/smb/smb_structs.py:363\u001b[39m, in \u001b[36mComNegotiateResponse.decode\u001b[39m\u001b[34m(self, message)\u001b[39m\n\u001b[32m    359\u001b[39m         _, \u001b[38;5;28mself\u001b[39m.security_mode, \u001b[38;5;28mself\u001b[39m.max_mpx_count, \u001b[38;5;28mself\u001b[39m.max_number_vcs, \u001b[38;5;28mself\u001b[39m.max_buffer_size, \\\n\u001b[32m    360\u001b[39m         \u001b[38;5;28mself\u001b[39m.max_raw_size, \u001b[38;5;28mself\u001b[39m.session_key, \u001b[38;5;28mself\u001b[39m.capabilities, \u001b[38;5;28mself\u001b[39m.system_time, \u001b[38;5;28mself\u001b[39m.server_time_zone, \\\n\u001b[32m    361\u001b[39m         \u001b[38;5;28mself\u001b[39m.challenge_length = struct.unpack(\u001b[38;5;28mself\u001b[39m.PAYLOAD_STRUCT_FORMAT, message.parameters_data[:\u001b[38;5;28mself\u001b[39m.PAYLOAD_STRUCT_SIZE])\n\u001b[32m    362\u001b[39m \u001b[38;5;28;01melif\u001b[39;00m \u001b[38;5;28mself\u001b[39m.dialect_index == \u001b[32m0xFFFF\u001b[39m:\n\u001b[32m--> \u001b[39m\u001b[32m363\u001b[39m     \u001b[38;5;28;01mraise\u001b[39;00m ProtocolError(\u001b[33m'\u001b[39m\u001b[33mServer does not support any of the pysmb dialects. Please email pysmb to add in support for your OS\u001b[39m\u001b[33m'\u001b[39m,\n\u001b[32m    364\u001b[39m                         message.raw_data, message)\n\u001b[32m    365\u001b[39m \u001b[38;5;28;01melse\u001b[39;00m:\n\u001b[32m    366\u001b[39m     \u001b[38;5;28;01mraise\u001b[39;00m ProtocolError(\u001b[33m'\u001b[39m\u001b[33mUnknown dialect index (0x\u001b[39m\u001b[38;5;132;01m%04X\u001b[39;00m\u001b[33m)\u001b[39m\u001b[33m'\u001b[39m % \u001b[38;5;28mself\u001b[39m.dialect_index, message.raw_data, message)\n",
      "\u001b[31mProtocolError\u001b[39m: Server does not support any of the pysmb dialects. Please email pysmb to add in support for your OS\n==================== SMB Message ====================\nCommand: 0x72 (SMB_COM_NEGOTIATE) \nStatus: NTSTATUS=0x00000000 \nFlags: 0x88 \nFlags2: 0xC003 \nPID: 84 \nUID: 0 \nMID: 1 \nTID: 0 \nSecurity: 0x0000000000000000 \nParameters: 2 bytes \nb'ffff' \nData: 0 bytes \nb'' \n==================== SMB Data Packet (hex) ====================\nb'ff534d4272000000008803c0000000000000000000000000000054000000010001ffff0000'\n"
     ]
    }
   ],
   "source": [
    "from smb.SMBConnection import SMBConnection\n",
    "\n",
    "conn = SMBConnection(\n",
    "    username=\"testuser\",\n",
    "    password=\"testpass\",\n",
    "    my_name=\"jupy-client\",     # Arbitrary client name\n",
    "    remote_name=\"test_smb\",    # SMB server NetBIOS name (must match container name or set explicitly)\n",
    "    use_ntlm_v2=True,\n",
    "    is_direct_tcp=True         # Required for port 445\n",
    ")\n",
    "\n",
    "if conn.connect(\"test_smb\", 445):\n",
    "    print(\"✅ Connected to SMB container\")\n",
    "    files = conn.listPath(\"share\", \"/\")\n",
    "    for f in files:\n",
    "        print(\"📄\", f.filename)\n",
    "    conn.close()\n",
    "else:\n",
    "    print(\"❌ Failed to connect to SMB\")\n",
    "    "
   ]
  },
  {
   "cell_type": "code",
   "execution_count": null,
   "id": "858daa0c-6016-4295-ae56-71a3306918a7",
   "metadata": {},
   "outputs": [],
   "source": []
  }
 ],
 "metadata": {
  "kernelspec": {
   "display_name": "Python 3 (ipykernel)",
   "language": "python",
   "name": "python3"
  },
  "language_info": {
   "codemirror_mode": {
    "name": "ipython",
    "version": 3
   },
   "file_extension": ".py",
   "mimetype": "text/x-python",
   "name": "python",
   "nbconvert_exporter": "python",
   "pygments_lexer": "ipython3",
   "version": "3.13.5"
  }
 },
 "nbformat": 4,
 "nbformat_minor": 5
}
