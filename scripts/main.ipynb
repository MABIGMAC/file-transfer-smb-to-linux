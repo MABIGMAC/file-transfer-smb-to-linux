{
 "cells": [
  {
   "cell_type": "code",
   "execution_count": 8,
   "id": "7cd87de6-5995-4fc1-a6ac-c84f8c83a7cd",
   "metadata": {},
   "outputs": [],
   "source": [
    "import os\n",
    "import time\n",
    "from lib.env_var import *\n",
    "from lib.utils import verify_upload, md5_checksum, calculate_s3_multipart_etag\n",
    "from lib.s3_client import get_s3_resource, ensure_bucket_exists, list_bucket_objects, upload_file_with_validation, put_object_with_validation\n",
    "\n",
    "\n"
   ]
  },
  {
   "cell_type": "code",
   "execution_count": 9,
   "id": "5983bfb2-cc21-4a70-ab3e-e6591b158a8d",
   "metadata": {},
   "outputs": [
    {
     "name": "stdout",
     "output_type": "stream",
     "text": [
      "✅ Connected to S3\n",
      "ℹ️  Bucket 'my-test-bucket' already exists.\n"
     ]
    }
   ],
   "source": [
    "# # === Write test file ===\n",
    "# os.makedirs(os.path.dirname(LOCAL_FILE_PATH), exist_ok=True)\n",
    "# with open(LOCAL_FILE_PATH, 'w') as f:\n",
    "#     f.write('Hello from Python!')\n",
    "\n",
    "# Connect to S3\n",
    "s3 = get_s3_resource()\n",
    "print(\"✅ Connected to S3\")\n",
    "\n",
    "# Ensure bucket exists\n",
    "bucket = ensure_bucket_exists(s3, BUCKET_NAME)\n",
    "\n",
    "\n",
    "\n",
    "\n",
    "\n",
    "\n"
   ]
  },
  {
   "cell_type": "code",
   "execution_count": 12,
   "id": "4862aee4-5bdf-4c20-93cb-4090c02a3d81",
   "metadata": {},
   "outputs": [
    {
     "name": "stdout",
     "output_type": "stream",
     "text": [
      "../data/10GB.bin\n"
     ]
    }
   ],
   "source": [
    "LOCAL_FILE_PATH='../data/10GB.bin'\n",
    "print(LOCAL_FILE_PATH)"
   ]
  },
  {
   "cell_type": "code",
   "execution_count": 13,
   "id": "7c7032cc-feae-427c-989e-bacdc618572e",
   "metadata": {},
   "outputs": [
    {
     "name": "stdout",
     "output_type": "stream",
     "text": [
      "✅ Exists\n"
     ]
    }
   ],
   "source": [
    "print(\"✅ Exists\" if os.path.exists(LOCAL_FILE_PATH) else \"❌ Not found\")\n"
   ]
  },
  {
   "cell_type": "code",
   "execution_count": 14,
   "id": "be740329-204a-485e-a76f-ff99a8f8083b",
   "metadata": {},
   "outputs": [
    {
     "name": "stdout",
     "output_type": "stream",
     "text": [
      "🔄 Uploading '../data/10GB.bin' to S3 bucket 'my-test-bucket' as 'uploaded/10GB.bin'...\n",
      "⏱️ Upload completed in 81.30 seconds\n",
      "📤 Uploaded '../data/10GB.bin' to 'uploaded/10GB.bin'\n"
     ]
    }
   ],
   "source": [
    "# Upload file\n",
    "upload_file_with_validation(bucket, LOCAL_FILE_PATH, S3_KEY)\n",
    "# put_object_with_validation(bucket, LOCAL_FILE_PATH, S3_KEY)\n"
   ]
  },
  {
   "cell_type": "code",
   "execution_count": 15,
   "id": "37decf1d-574c-4cad-bcda-e8fa07e0395b",
   "metadata": {},
   "outputs": [
    {
     "name": "stdout",
     "output_type": "stream",
     "text": [
      "🔎 Local ETag: 3768266266f6f47accd1c2d9d9f15529-1280\n",
      "🔎 S3 ETag : 3768266266f6f47accd1c2d9d9f15529-1280\n",
      "✅ File upload verified successfully!\n",
      "⏱️ Verification completed in 96.63 seconds\n"
     ]
    }
   ],
   "source": [
    "# # Verify with checksum\n",
    "start_time = time.time()  # ⏱️ Start timer\n",
    "\n",
    "\n",
    "locallasttag = calculate_s3_multipart_etag(LOCAL_FILE_PATH)\n",
    "etag = s3.Object(BUCKET_NAME, S3_KEY).e_tag.strip('\"')\n",
    "print(f\"🔎 Local ETag: {locallasttag}\")\n",
    "print(f\"🔎 S3 ETag : {etag}\")\n",
    "# verifyed = verify_upload(bucket, S3_KEY, LOCAL_FILE_PATH)\n",
    "\n",
    "if locallasttag == etag:\n",
    "    print(\"✅ File upload verified successfully!\")\n",
    "else:\n",
    "    print(\"❌ Upload verification failed (checksum mismatch)\")\n",
    "end_time = time.time()    # ⏱️ End timer\n",
    "duration = end_time - start_time\n",
    "print(f\"⏱️ Verification completed in {duration:.2f} seconds\")"
   ]
  },
  {
   "cell_type": "code",
   "execution_count": 16,
   "id": "9d7edf48-8a53-4c8a-abd2-89b01439364f",
   "metadata": {},
   "outputs": [
    {
     "name": "stdout",
     "output_type": "stream",
     "text": [
      "\n",
      "📂 Contents of bucket 'my-test-bucket':\n",
      " - uploaded/10GB.bin (10737418240 bytes) | Uploaded at: 2025-07-01 03:22:28 UTC\n"
     ]
    }
   ],
   "source": [
    "# List contents\n",
    "\n",
    "list_bucket_objects(bucket)"
   ]
  },
  {
   "cell_type": "code",
   "execution_count": null,
   "id": "b46f954c-1b1a-4208-ad91-f2fa241cbd54",
   "metadata": {},
   "outputs": [],
   "source": []
  }
 ],
 "metadata": {
  "kernelspec": {
   "display_name": "Python 3 (ipykernel)",
   "language": "python",
   "name": "python3"
  },
  "language_info": {
   "codemirror_mode": {
    "name": "ipython",
    "version": 3
   },
   "file_extension": ".py",
   "mimetype": "text/x-python",
   "name": "python",
   "nbconvert_exporter": "python",
   "pygments_lexer": "ipython3",
   "version": "3.13.5"
  }
 },
 "nbformat": 4,
 "nbformat_minor": 5
}
