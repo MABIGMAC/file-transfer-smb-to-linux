{
 "cells": [
  {
   "cell_type": "code",
   "execution_count": 2,
   "id": "708ebe32-878a-4362-b4e9-95698f8cc9d2",
   "metadata": {},
   "outputs": [],
   "source": [
    "import os\n",
    "import time\n",
    "from lib.env_var import *\n",
    "from lib.utils import verify_upload, md5_checksum, calculate_s3_multipart_etag, convert_to_s3_key\n",
    "from lib.s3_client import get_s3_resource, ensure_bucket_exists, list_bucket_objects, upload_file_with_validation, put_object_with_validation, upload_smb_file_to_s3, upload_smb_file_to_s3_stream\n",
    "from lib.smb_client import list_smb_files\n",
    "from smbclient import stat"
   ]
  },
  {
   "cell_type": "code",
   "execution_count": 3,
   "id": "5fd050ba-5e2c-41e8-9b9a-0002c63a193b",
   "metadata": {},
   "outputs": [],
   "source": [
    "files = list_smb_files()"
   ]
  },
  {
   "cell_type": "code",
   "execution_count": 4,
   "id": "0f0308e5-3a80-4340-baa3-b8eb353ecebf",
   "metadata": {},
   "outputs": [
    {
     "name": "stdout",
     "output_type": "stream",
     "text": [
      "✅ Connected to S3\n",
      "ℹ️  Bucket 'my-test-bucket' already exists.\n"
     ]
    }
   ],
   "source": [
    "s3 = get_s3_resource()\n",
    "print(\"✅ Connected to S3\")\n",
    "\n",
    "# Ensure bucket exists\n",
    "bucket = ensure_bucket_exists(s3, BUCKET_NAME)"
   ]
  },
  {
   "cell_type": "code",
   "execution_count": 5,
   "id": "50471046-42b8-4c2a-a266-b6f766d2d31f",
   "metadata": {},
   "outputs": [
    {
     "name": "stdout",
     "output_type": "stream",
     "text": [
      "🔄 Streaming upload of SMB file '\\\\test_smb\\share/folder1/text1.txt' to S3 'my-test-bucket/test_smb/share/folder1/text1.txt'...\n",
      "✅ Streaming upload complete: 'test_smb/share/folder1/text1.txt'\n",
      "Uploaded \\\\test_smb\\share/folder1/text1.txt to S3 key test_smb/share/folder1/text1.txt\n",
      "🔄 Streaming upload of SMB file '\\\\test_smb\\share/folder2/folder21/test21.txt' to S3 'my-test-bucket/test_smb/share/folder2/folder21/test21.txt'...\n",
      "✅ Streaming upload complete: 'test_smb/share/folder2/folder21/test21.txt'\n",
      "Uploaded \\\\test_smb\\share/folder2/folder21/test21.txt to S3 key test_smb/share/folder2/folder21/test21.txt\n",
      "🔄 Streaming upload of SMB file '\\\\test_smb\\share/folder2/test2.txt' to S3 'my-test-bucket/test_smb/share/folder2/test2.txt'...\n",
      "✅ Streaming upload complete: 'test_smb/share/folder2/test2.txt'\n",
      "Uploaded \\\\test_smb\\share/folder2/test2.txt to S3 key test_smb/share/folder2/test2.txt\n",
      "🔄 Streaming upload of SMB file '\\\\test_smb\\share/what.txt' to S3 'my-test-bucket/test_smb/share/what.txt'...\n",
      "✅ Streaming upload complete: 'test_smb/share/what.txt'\n",
      "Uploaded \\\\test_smb\\share/what.txt to S3 key test_smb/share/what.txt\n"
     ]
    }
   ],
   "source": [
    "for f in files:\n",
    "    stat(f)\n",
    "    s3Key = convert_to_s3_key(f)\n",
    "    upload_smb_file_to_s3_stream(bucket, f, s3Key)\n",
    "    print(f\"Uploaded {f} to S3 key {s3Key}\", flush=True)"
   ]
  },
  {
   "cell_type": "code",
   "execution_count": null,
   "id": "9403b4d1-9f1c-4409-980b-5bb7256af84e",
   "metadata": {},
   "outputs": [],
   "source": []
  }
 ],
 "metadata": {
  "kernelspec": {
   "display_name": "Python 3 (ipykernel)",
   "language": "python",
   "name": "python3"
  },
  "language_info": {
   "codemirror_mode": {
    "name": "ipython",
    "version": 3
   },
   "file_extension": ".py",
   "mimetype": "text/x-python",
   "name": "python",
   "nbconvert_exporter": "python",
   "pygments_lexer": "ipython3",
   "version": "3.13.5"
  }
 },
 "nbformat": 4,
 "nbformat_minor": 5
}
